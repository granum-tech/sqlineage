{
 "cells": [
  {
   "cell_type": "markdown",
   "metadata": {},
   "source": [
    "visjs (js, should be a python port/library)"
   ]
  },
  {
   "cell_type": "code",
   "execution_count": 3,
   "metadata": {},
   "outputs": [],
   "source": [
    "# Import packages\n",
    "import pyodbc\n",
    "import json"
   ]
  },
  {
   "cell_type": "code",
   "execution_count": 4,
   "metadata": {},
   "outputs": [],
   "source": [
    "# Load database configuration from JSON file\n",
    "with open('config.json', 'r') as file:\n",
    "    config = json.load(file)"
   ]
  },
  {
   "cell_type": "code",
   "execution_count": 8,
   "metadata": {},
   "outputs": [],
   "source": [
    "# Connection parameters\n",
    "sql_server_name = config['server_name']\n",
    "sql_server_database_name = 'master' # Initialize as master, will be changed later on as we iterate through databases\n",
    "sql_server_username = config['username']\n",
    "sql_server_password = config['password']\n",
    "sql_server_driver = config['driver']"
   ]
  },
  {
   "cell_type": "code",
   "execution_count": 9,
   "metadata": {},
   "outputs": [
    {
     "ename": "ProgrammingError",
     "evalue": "('42000', '[42000] [Microsoft][ODBC Driver 17 for SQL Server][SQL Server]Reason: An instance-specific error occurred while establishing a connection to SQL Server. Connection was denied since Deny Public Network Access is set to Yes (https://docs.microsoft.com/azure/azure-sql/database/connectivity-settings#deny-public-network-access). To connect to this server, use the Private Endpoint from inside your virtual network (https://docs.microsoft.com/azure/sql-database/sql-database-private-endpoint-overview#how-to-set-up-private-link-for-azure-sql-database). (47073) (SQLDriverConnect)')",
     "output_type": "error",
     "traceback": [
      "\u001b[0;31m---------------------------------------------------------------------------\u001b[0m",
      "\u001b[0;31mProgrammingError\u001b[0m                          Traceback (most recent call last)",
      "Cell \u001b[0;32mIn[9], line 6\u001b[0m\n\u001b[1;32m      1\u001b[0m \u001b[38;5;124;03m\"\"\"\u001b[39;00m\n\u001b[1;32m      2\u001b[0m \u001b[38;5;124;03mConnect to master database and extract all database names in the server\u001b[39;00m\n\u001b[1;32m      3\u001b[0m \u001b[38;5;124;03m\"\"\"\u001b[39;00m\n\u001b[1;32m      5\u001b[0m \u001b[38;5;66;03m# Connect to master database\u001b[39;00m\n\u001b[0;32m----> 6\u001b[0m conn_master \u001b[38;5;241m=\u001b[39m \u001b[43mpyodbc\u001b[49m\u001b[38;5;241;43m.\u001b[39;49m\u001b[43mconnect\u001b[49m\u001b[43m(\u001b[49m\u001b[38;5;124;43mf\u001b[39;49m\u001b[38;5;124;43m'\u001b[39;49m\u001b[38;5;124;43mDRIVER=\u001b[39;49m\u001b[38;5;132;43;01m{\u001b[39;49;00m\u001b[43mdriver\u001b[49m\u001b[38;5;132;43;01m}\u001b[39;49;00m\u001b[38;5;124;43m;SERVER=\u001b[39;49m\u001b[38;5;132;43;01m{\u001b[39;49;00m\u001b[43mserver_name\u001b[49m\u001b[38;5;132;43;01m}\u001b[39;49;00m\u001b[38;5;124;43m;DATABASE=\u001b[39;49m\u001b[38;5;132;43;01m{\u001b[39;49;00m\u001b[43mdatabase_name\u001b[49m\u001b[38;5;132;43;01m}\u001b[39;49;00m\u001b[38;5;124;43m;UID=\u001b[39;49m\u001b[38;5;132;43;01m{\u001b[39;49;00m\u001b[43musername\u001b[49m\u001b[38;5;132;43;01m}\u001b[39;49;00m\u001b[38;5;124;43m;PWD=\u001b[39;49m\u001b[38;5;132;43;01m{\u001b[39;49;00m\u001b[43mpassword\u001b[49m\u001b[38;5;132;43;01m}\u001b[39;49;00m\u001b[38;5;124;43m'\u001b[39;49m\u001b[43m)\u001b[49m\n\u001b[1;32m      7\u001b[0m cursor_master \u001b[38;5;241m=\u001b[39m conn_master\u001b[38;5;241m.\u001b[39mcursor()\n\u001b[1;32m      9\u001b[0m \u001b[38;5;66;03m# Query to get the list of all databases\u001b[39;00m\n",
      "\u001b[0;31mProgrammingError\u001b[0m: ('42000', '[42000] [Microsoft][ODBC Driver 17 for SQL Server][SQL Server]Reason: An instance-specific error occurred while establishing a connection to SQL Server. Connection was denied since Deny Public Network Access is set to Yes (https://docs.microsoft.com/azure/azure-sql/database/connectivity-settings#deny-public-network-access). To connect to this server, use the Private Endpoint from inside your virtual network (https://docs.microsoft.com/azure/sql-database/sql-database-private-endpoint-overview#how-to-set-up-private-link-for-azure-sql-database). (47073) (SQLDriverConnect)')"
     ]
    }
   ],
   "source": [
    "\"\"\"\n",
    "Connect to master database and extract all database names in the server\n",
    "\"\"\"\n",
    "\n",
    "# Connect to master database\n",
    "conn_master = pyodbc.connect(f'DRIVER={sql_server_driver};SERVER={sql_server_name};DATABASE={sql_server_database_name};UID={sql_server_username};PWD={sql_server_password}')\n",
    "cursor_master = conn_master.cursor()\n",
    "\n",
    "# Query to get the list of all databases\n",
    "cursor_master.execute(\"SELECT name FROM sys.databases\")\n",
    "\n",
    "# Fetch all query data\n",
    "rows = cursor_master.fetchall()\n",
    "\n",
    "# Initialize list to store database names\n",
    "databases = []\n",
    "\n",
    "# Add each row to list\n",
    "for row in rows:\n",
    "    databases.append(row.name)\n",
    "\n",
    "\n",
    "# Close the master database cursor and connection\n",
    "if cursor_master:\n",
    "    cursor_master.close()\n",
    "if conn_master:\n",
    "    conn_master.close()"
   ]
  },
  {
   "cell_type": "code",
   "execution_count": 66,
   "metadata": {},
   "outputs": [
    {
     "name": "stdout",
     "output_type": "stream",
     "text": [
      "['master', 'recfi_data_analytics', 'recfi_data_test', 'recfi_data_analytics_test', 'recfi_data', 'recfi_data_dev', 'recfi_data_analytics_dev']\n"
     ]
    }
   ],
   "source": [
    "print(databases)"
   ]
  },
  {
   "cell_type": "code",
   "execution_count": 67,
   "metadata": {},
   "outputs": [],
   "source": [
    "# Initialize a dictionary to store metadata\n",
    "database_metadata = {}\n",
    "\n",
    "# Iterate over each database\n",
    "for db in databases:\n",
    "    if db.lower() == 'master':\n",
    "        continue\n",
    "    \n",
    "    # Connect to the database\n",
    "    conn_db = pyodbc.connect(\n",
    "        f'DRIVER={sql_server_driver};SERVER={sql_server_name};DATABASE={sql_server_database_name};UID={sql_server_username};PWD={sql_server_password}'\n",
    "    )\n",
    "    cursor_db = conn_db.cursor()\n",
    "    \n",
    "    # Query to get stored procedures, user tables, and views\n",
    "    cursor_db.execute(\"\"\"\n",
    "        SELECT \n",
    "            o.name AS ObjectName,\n",
    "            o.object_id AS ObjectID,\n",
    "            o.type_desc AS ObjectType\n",
    "        FROM \n",
    "            sys.objects AS o\n",
    "        WHERE \n",
    "            o.type_desc IN ('SQL_STORED_PROCEDURE', 'USER_TABLE', 'VIEW')\n",
    "    \"\"\")\n",
    "    \n",
    "    objects = cursor_db.fetchall()\n",
    "    object_list = []\n",
    "    \n",
    "    for obj in objects:\n",
    "        cursor_db.execute(f\"\"\"\n",
    "            SELECT \n",
    "                definition\n",
    "            FROM \n",
    "                sys.sql_modules\n",
    "            WHERE \n",
    "                object_id = {obj.ObjectID}\n",
    "        \"\"\")\n",
    "        definition = cursor_db.fetchone()\n",
    "        definition_text = definition.definition if definition else \"No definition available\"\n",
    "        \n",
    "        object_list.append({\n",
    "            \"ObjectName\": obj.ObjectName,\n",
    "            \"ObjectID\": obj.ObjectID,\n",
    "            \"ObjectType\": obj.ObjectType,\n",
    "            \"Definition\": definition_text\n",
    "        })\n",
    "    \n",
    "    database_metadata[db] = object_list\n",
    "    \n",
    "    # Close the database cursor and connection\n",
    "    if cursor_db:\n",
    "        cursor_db.close()\n",
    "    if conn_db:\n",
    "        conn_db.close()\n",
    "\n",
    "# Write metadata to a JSON file\n",
    "with open('database_metadata.json', 'w', encoding='utf-8') as jsonfile:\n",
    "    json.dump(database_metadata, jsonfile, ensure_ascii=False, indent=4)"
   ]
  },
  {
   "cell_type": "code",
   "execution_count": null,
   "metadata": {},
   "outputs": [],
   "source": []
  }
 ],
 "metadata": {
  "kernelspec": {
   "display_name": "base",
   "language": "python",
   "name": "python3"
  },
  "language_info": {
   "codemirror_mode": {
    "name": "ipython",
    "version": 3
   },
   "file_extension": ".py",
   "mimetype": "text/x-python",
   "name": "python",
   "nbconvert_exporter": "python",
   "pygments_lexer": "ipython3",
   "version": "3.10.12"
  }
 },
 "nbformat": 4,
 "nbformat_minor": 2
}
